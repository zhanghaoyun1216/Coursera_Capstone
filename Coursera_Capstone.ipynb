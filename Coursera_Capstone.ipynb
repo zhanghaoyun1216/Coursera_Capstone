{
    "cells": [
        {
            "cell_type": "markdown",
            "metadata": {
                "collapsed": true
            },
            "source": "# Capstone project - Opening a restaurant in London Pt.1"
        },
        {
            "cell_type": "markdown",
            "metadata": {},
            "source": "### 1.Introduction: "
        },
        {
            "cell_type": "markdown",
            "metadata": {},
            "source": "- **Background:**\n\nLondon, one of the world's most famous metropolitan, is considered the most visited, most desirable and most investment-friendly city. With a population of nearly 8.8 million people, diverse range of culture and one of the most popular airports in the world, the city is a bastion of cultural and culinary diversity.\n- **Business problem:**\n\nThis project is relevant to those who are interested in opening a restaurant in London and mainly provides information on one of the dimensions - location of the comprehensive task. We seek to find an optimal location to open a new restaurant."
        },
        {
            "cell_type": "markdown",
            "metadata": {},
            "source": "### 2.Data"
        },
        {
            "cell_type": "markdown",
            "metadata": {},
            "source": "**In this project we will utilise the following data:**\n\n- Data of London, in order to support our search for the optimal location, this includes geographical location of postal areas, population by borough and other useful facts. \n- **Foursquare** location and venue data, in order to extract location of venues and insight of the distribution of restaurants.\n\n\n**To find the optimal location(s):**\n\nOpening a restaurant is a comprehensive task involves many other factors other than location, therefore there is no single optimal location in a city with 33 boroughs and a population of 9 million. In this project, we seek to find **desirable locations belonging to different boroughs** based on the consideration of the diverse backgrounds of stakeholder and the complexity of London. "
        }
    ],
    "metadata": {
        "kernelspec": {
            "display_name": "Python 3.6",
            "language": "python",
            "name": "python3"
        },
        "language_info": {
            "codemirror_mode": {
                "name": "ipython",
                "version": 3
            },
            "file_extension": ".py",
            "mimetype": "text/x-python",
            "name": "python",
            "nbconvert_exporter": "python",
            "pygments_lexer": "ipython3",
            "version": "3.6.9"
        }
    },
    "nbformat": 4,
    "nbformat_minor": 1
}