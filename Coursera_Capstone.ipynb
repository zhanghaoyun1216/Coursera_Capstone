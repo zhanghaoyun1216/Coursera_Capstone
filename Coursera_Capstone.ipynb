{
    "cells": [
        {
            "cell_type": "markdown",
            "metadata": {
                "collapsed": true
            },
            "source": "# Capstone project - Opening a restaurant in London Pt.1"
        },
        {
            "cell_type": "markdown",
            "metadata": {},
            "source": "### 1.Introduction: "
        },
        {
            "cell_type": "markdown",
            "metadata": {},
            "source": "- **Background:**\n\nDue to the pandemic, London restaurants faced many challenges. Now in the late stage, people's willingness to dine out is higher than ever. With incumbent restaurants struggling to recover, relaxation of regulations and drinkers and dinner returning to the street, some may consider now an opportunity to open a restaurant in London. As a former student in London, it is place of my interest to look into.\n\n- **Business problem:**\n\nThis project is relevant to those who are interested in opening a restaurant in London, especially, in looking for an ideal location of the new restaurant. Location is one of the crucial determinants of a restaurant's success, therefore it is important to make an informed decision on choosing the location of a restaurant.\n\nIn this project, we seek to find desirable locations/area in each borough based on the consideration of the complexity of London. We categorise boroughs into three groups: High, medium, low presence/competition of restaurants and each group receive different treatment. Ultimately, the desirable location should be as close as possible to the centre of each borough and also have a low level of competition."
        },
        {
            "cell_type": "markdown",
            "metadata": {},
            "source": "### 2.Data"
        },
        {
            "cell_type": "markdown",
            "metadata": {},
            "source": "**In this project we will utilise the following data:**\n\n- Table 'London population by borough', 'London postal codes', JSON file of London boroughs. We extract information of postal codes and population of London by borough from websites. Then transform them into dataframe and visualise using folium. We draw boundaries of each borough and choropleth map of the population by borough to identify them visually.\n\n- Foursquare API:  we will first get geographical data for the list of postal codes using geopy, which provides good coverage of the city. Once we have the co-ordinates, we will get nearby venues and restaurants using Foursquare API calls. Extract restaurant-related data and transform them into dataframes. Then use folium to plot and generate heat maps to extract insight into the distribution of restaurants in London and in each borough.\n\n- Data set 'Restaurants in London 1st August 2019' by the office for National Statistics. The data set contains a total turnover of restaurants in each borough. We will visualise the numbers using the choropleth map. \n\nAfter preprocessing all the data and obtianing the visualisation, we categorise each borough based on the density of restaurants, population and turnover into three bands. Most work will be done for boroughs with high and middle competition. We will find a location that's as close as possible to the cluster of restaurants. For low competition area, such as outer London, the optimal location will be as close as possible to the borough centre.\n\n\n\n**Data locations/references:**\n\nhttps://skyrockliving.com/list-of-london-boroughs/  - London population by borough(2018)\nhttp://www.internetpk.com/postal-codes/united-kingdom/london.php - London postal codes\nhttps://www.ons.gov.uk/businessindustryandtrade/business/activitysizeandlocation/adhocs/010295restaurantsinlondon - Restaurants in London\n"
        },
        {
            "cell_type": "code",
            "execution_count": null,
            "metadata": {},
            "outputs": [],
            "source": ""
        }
    ],
    "metadata": {
        "kernelspec": {
            "display_name": "Python 3.6",
            "language": "python",
            "name": "python3"
        },
        "language_info": {
            "codemirror_mode": {
                "name": "ipython",
                "version": 3
            },
            "file_extension": ".py",
            "mimetype": "text/x-python",
            "name": "python",
            "nbconvert_exporter": "python",
            "pygments_lexer": "ipython3",
            "version": "3.6.9"
        }
    },
    "nbformat": 4,
    "nbformat_minor": 1
}